{
 "cells": [
  {
   "cell_type": "code",
   "execution_count": 46,
   "id": "d2edeacc",
   "metadata": {},
   "outputs": [],
   "source": [
    "import tensorflow as tf\n",
    "import numpy as np\n",
    "import matplotlib.pyplot as plt"
   ]
  },
  {
   "cell_type": "code",
   "execution_count": 47,
   "id": "1bb831aa",
   "metadata": {},
   "outputs": [],
   "source": [
    "fmnist = tf.keras.datasets.fashion_mnist\n",
    "(x_train, y_train), (x_test, y_test) = fmnist.load_data()"
   ]
  },
  {
   "cell_type": "code",
   "execution_count": 48,
   "id": "4d3ff5c3",
   "metadata": {},
   "outputs": [
    {
     "name": "stdout",
     "output_type": "stream",
     "text": [
      "9\n",
      "(28, 28)\n",
      "[[  0   0   0   0   0   0   0   0   0   0   0   0   0   0   0   0   0   0   0   0   0   0   0   0   0   0   0   0]\n",
      " [  0   0   0   0   0   0   0   0   0   0   0   0   0   0   0   0   0   0   0   0   0   0   0   0   0   0   0   0]\n",
      " [  0   0   0   0   0   0   0   0   0   0   0   0   0   0   0   0   0   0   0   0   0   0   0   0   0   0   0   0]\n",
      " [  0   0   0   0   0   0   0   0   0   1   5   0   0  70  71  84  81  73  38   7   0   0  27  36  39   4   0   1]\n",
      " [  0   0   0   0   0   0   0   0   0   0   4   0  44 223 180 209 200 183 165 183 148 175 207 183 193 115   0   4]\n",
      " [  0   0   0   0   0   0   0   0   0   0   4   0  72 177 169 180 183 180 186 203 193 190 175 171 179 147   0   0]\n",
      " [  0   0   0   0   0   0   0   0   0   0   6   0 109 174 169 175 176 179 170 187 192 201 195 184 181 176   0   0]\n",
      " [  0   0   0   0   0   0   0   0   0   3   0   0 170 177 172 177 181 175 185 192 188 175 180 181 183 179   0   0]\n",
      " [  0   0   0   0   0   0   0   0   0   3   0   9 189 170 172 177 182 181 182 186 186 186 166 167 168 204  34   0]\n",
      " [  0   0   0   0   0   0   0   0   0   5   0  62 196 168 175 176 182 177 189 197 191 183 182 187 180 189 133   0]\n",
      " [  0   0   0   0   0   0   0   0   0   4   0 106 172 168 175 176 181 176 183 193 175 200 174 170 180 179 186   0]\n",
      " [  0   0   0   0   0   0   0   0   0   0   0 149 172 174 175 177 182 172 177 186 174 169 196 219 206 183 206  43]\n",
      " [  0   0   0   0   0   0   0   0   3   0  18 180 168 175 177 178 178 179 182 194 210 234 204 171 155 159 193  70]\n",
      " [  0   0   0   0   1   1   0   0   3   0  88 192 167 175 176 176 178 177 171 185 173 167 175 181 185 179 186 119]\n",
      " [  0   0   0   0   0   0   0   0   0   0 151 173 171 175 176 176 176 173 179 187 192 205 178 170 167 162 179 137]\n",
      " [  0   0   0   1   1   0   0   4   0  37 176 162 169 172 177 176 175 175 171 180 177 183 188 185 182 185 212 136]\n",
      " [  1   0   0   1   1   0   2   0   0 128 174 173 178 180 177 176 174 175 185 193 184 189 184 185 211 208 210 100]\n",
      " [  0   0   0   0   1   1   9   0  51 173 168 173 178 178 183 181 179 181 152 164 200 181 163 209 229 195 214  80]\n",
      " [  0   0   2   3   2   0   0  33 159 159 167 174 176 177 177 176 177 145 192 255 117 173 248 217 211 189 215  63]\n",
      " [  0   2   0   0   0   4  79 152 155 165 174 177 177 175 181 174 162 203 221  30   0 192 222 197 209 189 213  35]\n",
      " [  0   0  21  76 111 134 138 140 146 162 171 178 179 180 166 164 219 165   0   0   0 205 214 200 206 185 215  28]\n",
      " [  0  59 164 135 137  85  72 135 153 154 168 172 184 165 166 218 128   0   0   0   0 205 211 202 205 188 207  15]\n",
      " [  0 127 154 154 152 154 125 150 170 169 173 183 168 170 218  83   0   0   0   0   0 207 210 200 199 188 208   8]\n",
      " [ 49 195 193 177 167 167 163 152 151 161 160 163 184 217  69   0   0   8   0   0   0 173 204 194 191 184 195   0]\n",
      " [  0  45 156 180 200 201 234 230 223 216 216 237 221  43   0   0   2   4   0   0   0 242 217 205 204 197 222   0]\n",
      " [  0   0   0   0  10  44  66  93 116 128 104  57   0   0   0   1   0   4   0   0   0  82  83  84  96  90  84   0]\n",
      " [  0   0   0   0   0   0   0   0   0   0   0   0   0   0   0   0   0   0   0   0   0   0   0   0   0   0   0   0]\n",
      " [  0   0   0   0   0   0   0   0   0   0   0   0   0   0   0   0   0   0   0   0   0   0   0   0   0   0   0   0]]\n"
     ]
    },
    {
     "data": {
      "text/plain": [
       "<matplotlib.image.AxesImage at 0x1b3552fd510>"
      ]
     },
     "execution_count": 48,
     "metadata": {},
     "output_type": "execute_result"
    },
    {
     "data": {
      "image/png": "[encoded data removed]",
      "text/plain": [
       "<Figure size 640x480 with 1 Axes>"
      ]
     },
     "metadata": {},
     "output_type": "display_data"
    }
   ],
   "source": [
    "index = 4560\n",
    "np.set_printoptions(linewidth=320)\n",
    "print(y_train[index])\n",
    "print(x_train[index].shape)\n",
    "print(x_train[index])\n",
    "plt.imshow(x_train[index], cmap='gray')"
   ]
  },
  {
   "cell_type": "code",
   "execution_count": 49,
   "id": "72f56bd2",
   "metadata": {},
   "outputs": [],
   "source": [
    "# Normalization\n",
    "# Scale the images to the [0, 1] range\n",
    "x_train = x_train / 255.0\n",
    "x_test = x_test / 255.0"
   ]
  },
  {
   "cell_type": "markdown",
   "id": "6b3e8968",
   "metadata": {},
   "source": [
    "# Model Train"
   ]
  },
  {
   "cell_type": "code",
   "execution_count": 50,
   "id": "8dc62e2a",
   "metadata": {},
   "outputs": [],
   "source": [
    "model = tf.keras.models.Sequential([\n",
    "    tf.keras.layers.Flatten(),\n",
    "    tf.keras.layers.Dense(128, activation='relu'),\n",
    "    tf.keras.layers.Dense(10, activation='softmax')])"
   ]
  },
  {
   "cell_type": "code",
   "execution_count": 51,
   "id": "167cdcec",
   "metadata": {},
   "outputs": [
    {
     "name": "stdout",
     "output_type": "stream",
     "text": [
      "tf.Tensor([[0.0320586  0.23688284 0.6439142  0.08714432]], shape=(1, 4), dtype=float32)\n",
      "tf.Tensor(10.0, shape=(), dtype=float32)\n",
      "Class with higher prediction: 2\n"
     ]
    }
   ],
   "source": [
    "input = np.array([[1.0, 3.0, 4.0, 2.0]])\n",
    "input = tf.convert_to_tensor(input, dtype=tf.float32)\n",
    "\n",
    "output = tf.keras.activations.softmax(input)\n",
    "print(output)\n",
    "\n",
    "sum = tf.reduce_sum(input)\n",
    "print(sum)\n",
    "\n",
    "predictions = np.argmax(output)\n",
    "print(f\"Class with higher prediction: {predictions}\")"
   ]
  },
  {
   "cell_type": "code",
   "execution_count": 53,
   "id": "cc636a51",
   "metadata": {},
   "outputs": [
    {
     "name": "stdout",
     "output_type": "stream",
     "text": [
      "Epoch 1/5\n",
      "\u001b[1m1875/1875\u001b[0m \u001b[32m━━━━━━━━━━━━━━━━━━━━\u001b[0m\u001b[37m\u001b[0m \u001b[1m5s\u001b[0m 2ms/step - accuracy: 0.7806 - loss: 0.6308\n",
      "Epoch 2/5\n",
      "\u001b[1m1875/1875\u001b[0m \u001b[32m━━━━━━━━━━━━━━━━━━━━\u001b[0m\u001b[37m\u001b[0m \u001b[1m4s\u001b[0m 2ms/step - accuracy: 0.8619 - loss: 0.3825\n",
      "Epoch 3/5\n",
      "\u001b[1m1875/1875\u001b[0m \u001b[32m━━━━━━━━━━━━━━━━━━━━\u001b[0m\u001b[37m\u001b[0m \u001b[1m4s\u001b[0m 2ms/step - accuracy: 0.8785 - loss: 0.3347\n",
      "Epoch 4/5\n",
      "\u001b[1m1875/1875\u001b[0m \u001b[32m━━━━━━━━━━━━━━━━━━━━\u001b[0m\u001b[37m\u001b[0m \u001b[1m4s\u001b[0m 2ms/step - accuracy: 0.8856 - loss: 0.3069\n",
      "Epoch 5/5\n",
      "\u001b[1m1875/1875\u001b[0m \u001b[32m━━━━━━━━━━━━━━━━━━━━\u001b[0m\u001b[37m\u001b[0m \u001b[1m4s\u001b[0m 2ms/step - accuracy: 0.8922 - loss: 0.2956\n",
      "313/313 - 1s - 2ms/step - accuracy: 0.8696 - loss: 0.3629\n",
      "\n",
      "Test accuracy: 0.8695999979972839\n"
     ]
    }
   ],
   "source": [
    "import tensorflow as tf\n",
    "\n",
    "model.compile(\n",
    "    optimizer=tf.keras.optimizers.Adam(),  # ✅ Correct way to access Adam optimizer\n",
    "    loss='sparse_categorical_crossentropy',\n",
    "    metrics=['accuracy']                   # ✅ It's 'metrics', not 'matrix'\n",
    ")\n",
    "\n",
    "model.fit(x_train, y_train, epochs=5)\n",
    "test_loss, test_acc = model.evaluate(x_test, y_test, verbose=2)\n",
    "print('\\nTest accuracy:', test_acc)"
   ]
  },
  {
   "cell_type": "code",
   "execution_count": 54,
   "id": "88fcc62a",
   "metadata": {},
   "outputs": [
    {
     "name": "stdout",
     "output_type": "stream",
     "text": [
      "313/313 - 0s - 1ms/step - accuracy: 0.8696 - loss: 0.3629\n"
     ]
    },
    {
     "data": {
      "text/plain": [
       "[0.36294010281562805, 0.8695999979972839]"
      ]
     },
     "execution_count": 54,
     "metadata": {},
     "output_type": "execute_result"
    }
   ],
   "source": [
    "model.evaluate(x_test, y_test, verbose=2)"
   ]
  }
 ],
 "metadata": {
  "kernelspec": {
   "display_name": "tf_env",
   "language": "python",
   "name": "tf_env"
  },
  "language_info": {
   "codemirror_mode": {
    "name": "ipython",
    "version": 3
   },
   "file_extension": ".py",
   "mimetype": "text/x-python",
   "name": "python",
   "nbconvert_exporter": "python",
   "pygments_lexer": "ipython3",
   "version": "3.10.18"
  }
 },
 "nbformat": 4,
 "nbformat_minor": 5
}
