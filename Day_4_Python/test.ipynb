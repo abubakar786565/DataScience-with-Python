{
 "cells": [
  {
   "cell_type": "markdown",
   "metadata": {},
   "source": [
    "##Random Liberary\\\n",
    "**Random Lib ka istamaal**"
   ]
  },
  {
   "cell_type": "code",
   "execution_count": 4,
   "metadata": {},
   "outputs": [
    {
     "name": "stdout",
     "output_type": "stream",
     "text": [
      "14\n",
      "20\n",
      "29\n",
      "31\n",
      "34\n",
      "42\n",
      "52\n",
      "53\n",
      "58\n",
      "65\n",
      "72\n",
      "81\n",
      "91\n",
      "99\n",
      "104\n"
     ]
    }
   ],
   "source": [
    "import random\n",
    "\n",
    "i = 6\n",
    "while i < 100:\n",
    "    i += random.randint(1, 10)\n",
    "    print(i)  # Optional: To see the progression of `i`\n"
   ]
  },
  {
   "cell_type": "code",
   "execution_count": 5,
   "metadata": {},
   "outputs": [],
   "source": [
    "import tkinter as tk\n",
    "\n",
    "# Create the main window (room)\n",
    "window = tk.Tk()\n",
    "window.title(\"Room with GUI\")\n",
    "\n",
    "# Set the size of the window (room)\n",
    "window.geometry(\"600x400\")\n",
    "\n",
    "# Create the walls (frame)\n",
    "walls = tk.Frame(window, bg=\"lightblue\", width=600, height=400)\n",
    "walls.pack_propagate(False)  # Prevent resizing of the frame\n",
    "walls.pack()\n",
    "\n",
    "# Add a door (rectangle)\n",
    "door = tk.Canvas(walls, bg=\"brown\", height=100, width=50)\n",
    "door.place(x=250, y=300)\n",
    "\n",
    "# Add a window (rectangle)\n",
    "window_rect = tk.Canvas(walls, bg=\"lightgrey\", height=80, width=80)\n",
    "window_rect.place(x=450, y=50)\n",
    "\n",
    "# Create a label for room name\n",
    "label = tk.Label(walls, text=\"My Room\", font=(\"Arial\", 24))\n",
    "label.place(x=250, y=10)\n",
    "\n",
    "# Add a bed (rectangle)\n",
    "bed = tk.Canvas(walls, bg=\"darkblue\", height=40, width=120)\n",
    "bed.place(x=200, y=200)\n",
    "\n",
    "# Add a table (rectangle)\n",
    "table = tk.Canvas(walls, bg=\"brown\", height=30, width=80)\n",
    "table.place(x=100, y=150)\n",
    "\n",
    "# Start the GUI loop\n",
    "window.mainloop()\n"
   ]
  }
 ],
 "metadata": {
  "kernelspec": {
   "display_name": "Python 3",
   "language": "python",
   "name": "python3"
  },
  "language_info": {
   "codemirror_mode": {
    "name": "ipython",
    "version": 3
   },
   "file_extension": ".py",
   "mimetype": "text/x-python",
   "name": "python",
   "nbconvert_exporter": "python",
   "pygments_lexer": "ipython3",
   "version": "3.13.5"
  }
 },
 "nbformat": 4,
 "nbformat_minor": 2
}
