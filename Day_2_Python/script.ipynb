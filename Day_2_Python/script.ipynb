{
 "cells": [
  {
   "cell_type": "code",
   "execution_count": 1,
   "metadata": {},
   "outputs": [
    {
     "ename": "Terminator",
     "evalue": "",
     "output_type": "error",
     "traceback": [
      "\u001b[31m---------------------------------------------------------------------------\u001b[39m",
      "\u001b[31mTclError\u001b[39m                                  Traceback (most recent call last)",
      "\u001b[36mFile \u001b[39m\u001b[32m<string>:8\u001b[39m, in \u001b[36mcircle\u001b[39m\u001b[34m(radius, extent, steps)\u001b[39m\n",
      "\u001b[36mFile \u001b[39m\u001b[32mc:\\Users\\abuba\\AppData\\Local\\Programs\\Python\\Python311\\Lib\\turtle.py:1993\u001b[39m, in \u001b[36mTNavigator.circle\u001b[39m\u001b[34m(self, radius, extent, steps)\u001b[39m\n\u001b[32m   1992\u001b[39m \u001b[38;5;28mself\u001b[39m.speed(speed)\n\u001b[32m-> \u001b[39m\u001b[32m1993\u001b[39m \u001b[38;5;28;43mself\u001b[39;49m\u001b[43m.\u001b[49m\u001b[43m_go\u001b[49m\u001b[43m(\u001b[49m\u001b[43ml\u001b[49m\u001b[43m)\u001b[49m\n\u001b[32m   1994\u001b[39m \u001b[38;5;28mself\u001b[39m.speed(\u001b[32m0\u001b[39m)\n",
      "\u001b[36mFile \u001b[39m\u001b[32mc:\\Users\\abuba\\AppData\\Local\\Programs\\Python\\Python311\\Lib\\turtle.py:1607\u001b[39m, in \u001b[36mTNavigator._go\u001b[39m\u001b[34m(self, distance)\u001b[39m\n\u001b[32m   1606\u001b[39m ende = \u001b[38;5;28mself\u001b[39m._position + \u001b[38;5;28mself\u001b[39m._orient * distance\n\u001b[32m-> \u001b[39m\u001b[32m1607\u001b[39m \u001b[38;5;28;43mself\u001b[39;49m\u001b[43m.\u001b[49m\u001b[43m_goto\u001b[49m\u001b[43m(\u001b[49m\u001b[43mende\u001b[49m\u001b[43m)\u001b[49m\n",
      "\u001b[36mFile \u001b[39m\u001b[32mc:\\Users\\abuba\\AppData\\Local\\Programs\\Python\\Python311\\Lib\\turtle.py:3176\u001b[39m, in \u001b[36mRawTurtle._goto\u001b[39m\u001b[34m(self, end)\u001b[39m\n\u001b[32m   3172\u001b[39m screen = \u001b[38;5;28mself\u001b[39m.screen\n\u001b[32m   3173\u001b[39m undo_entry = (\u001b[33m\"\u001b[39m\u001b[33mgo\u001b[39m\u001b[33m\"\u001b[39m, \u001b[38;5;28mself\u001b[39m._position, end, go_modes,\n\u001b[32m   3174\u001b[39m               (\u001b[38;5;28mself\u001b[39m.currentLineItem,\n\u001b[32m   3175\u001b[39m               \u001b[38;5;28mself\u001b[39m.currentLine[:],\n\u001b[32m-> \u001b[39m\u001b[32m3176\u001b[39m               \u001b[43mscreen\u001b[49m\u001b[43m.\u001b[49m\u001b[43m_pointlist\u001b[49m\u001b[43m(\u001b[49m\u001b[38;5;28;43mself\u001b[39;49m\u001b[43m.\u001b[49m\u001b[43mcurrentLineItem\u001b[49m\u001b[43m)\u001b[49m,\n\u001b[32m   3177\u001b[39m               \u001b[38;5;28mself\u001b[39m.items[:])\n\u001b[32m   3178\u001b[39m               )\n\u001b[32m   3179\u001b[39m \u001b[38;5;28;01mif\u001b[39;00m \u001b[38;5;28mself\u001b[39m.undobuffer:\n",
      "\u001b[36mFile \u001b[39m\u001b[32mc:\\Users\\abuba\\AppData\\Local\\Programs\\Python\\Python311\\Lib\\turtle.py:755\u001b[39m, in \u001b[36mTurtleScreenBase._pointlist\u001b[39m\u001b[34m(self, item)\u001b[39m\n\u001b[32m    748\u001b[39m \u001b[38;5;250m\u001b[39m\u001b[33;03m\"\"\"returns list of coordinate-pairs of points of item\u001b[39;00m\n\u001b[32m    749\u001b[39m \u001b[33;03mExample (for insiders):\u001b[39;00m\n\u001b[32m    750\u001b[39m \u001b[33;03m>>> from turtle import *\u001b[39;00m\n\u001b[32m   (...)\u001b[39m\u001b[32m    753\u001b[39m \u001b[33;03m(9.9999999999999982, 0.0)]\u001b[39;00m\n\u001b[32m    754\u001b[39m \u001b[33;03m>>> \"\"\"\u001b[39;00m\n\u001b[32m--> \u001b[39m\u001b[32m755\u001b[39m cl = \u001b[38;5;28;43mself\u001b[39;49m\u001b[43m.\u001b[49m\u001b[43mcv\u001b[49m\u001b[43m.\u001b[49m\u001b[43mcoords\u001b[49m\u001b[43m(\u001b[49m\u001b[43mitem\u001b[49m\u001b[43m)\u001b[49m\n\u001b[32m    756\u001b[39m pl = [(cl[i], -cl[i+\u001b[32m1\u001b[39m]) \u001b[38;5;28;01mfor\u001b[39;00m i \u001b[38;5;129;01min\u001b[39;00m \u001b[38;5;28mrange\u001b[39m(\u001b[32m0\u001b[39m, \u001b[38;5;28mlen\u001b[39m(cl), \u001b[32m2\u001b[39m)]\n",
      "\u001b[36mFile \u001b[39m\u001b[32m<string>:1\u001b[39m, in \u001b[36mcoords\u001b[39m\u001b[34m(self, *args, **kw)\u001b[39m\n",
      "\u001b[36mFile \u001b[39m\u001b[32mc:\\Users\\abuba\\AppData\\Local\\Programs\\Python\\Python311\\Lib\\tkinter\\__init__.py:2822\u001b[39m, in \u001b[36mCanvas.coords\u001b[39m\u001b[34m(self, *args)\u001b[39m\n\u001b[32m   2819\u001b[39m \u001b[38;5;66;03m# XXX Should use _flatten on args\u001b[39;00m\n\u001b[32m   2820\u001b[39m \u001b[38;5;28;01mreturn\u001b[39;00m [\u001b[38;5;28mself\u001b[39m.tk.getdouble(x) \u001b[38;5;28;01mfor\u001b[39;00m x \u001b[38;5;129;01min\u001b[39;00m\n\u001b[32m   2821\u001b[39m                    \u001b[38;5;28mself\u001b[39m.tk.splitlist(\n\u001b[32m-> \u001b[39m\u001b[32m2822\u001b[39m            \u001b[38;5;28;43mself\u001b[39;49m\u001b[43m.\u001b[49m\u001b[43mtk\u001b[49m\u001b[43m.\u001b[49m\u001b[43mcall\u001b[49m\u001b[43m(\u001b[49m\u001b[43m(\u001b[49m\u001b[38;5;28;43mself\u001b[39;49m\u001b[43m.\u001b[49m\u001b[43m_w\u001b[49m\u001b[43m,\u001b[49m\u001b[43m \u001b[49m\u001b[33;43m'\u001b[39;49m\u001b[33;43mcoords\u001b[39;49m\u001b[33;43m'\u001b[39;49m\u001b[43m)\u001b[49m\u001b[43m \u001b[49m\u001b[43m+\u001b[49m\u001b[43m \u001b[49m\u001b[43margs\u001b[49m\u001b[43m)\u001b[49m)]\n",
      "\u001b[31mTclError\u001b[39m: invalid command name \".!canvas\"",
      "\nDuring handling of the above exception, another exception occurred:\n",
      "\u001b[31mTerminator\u001b[39m                                Traceback (most recent call last)",
      "\u001b[36mCell\u001b[39m\u001b[36m \u001b[39m\u001b[32mIn[1]\u001b[39m\u001b[32m, line 29\u001b[39m\n\u001b[32m     26\u001b[39m     turtle.done()\n\u001b[32m     28\u001b[39m \u001b[38;5;66;03m# Call the function to draw the rose\u001b[39;00m\n\u001b[32m---> \u001b[39m\u001b[32m29\u001b[39m \u001b[43mdraw_rose\u001b[49m\u001b[43m(\u001b[49m\u001b[43m)\u001b[49m\n",
      "\u001b[36mCell\u001b[39m\u001b[36m \u001b[39m\u001b[32mIn[1]\u001b[39m\u001b[32m, line 14\u001b[39m, in \u001b[36mdraw_rose\u001b[39m\u001b[34m(num_petals, petal_size, stem_length, petal_color, stem_color)\u001b[39m\n\u001b[32m     12\u001b[39m turtle.circle(petal_size, \u001b[32m60\u001b[39m)  \u001b[38;5;66;03m# Draw a semicircle\u001b[39;00m\n\u001b[32m     13\u001b[39m turtle.left(\u001b[32m120\u001b[39m)                 \u001b[38;5;66;03m# Turn left\u001b[39;00m\n\u001b[32m---> \u001b[39m\u001b[32m14\u001b[39m \u001b[43mturtle\u001b[49m\u001b[43m.\u001b[49m\u001b[43mcircle\u001b[49m\u001b[43m(\u001b[49m\u001b[43mpetal_size\u001b[49m\u001b[43m,\u001b[49m\u001b[43m \u001b[49m\u001b[32;43m60\u001b[39;49m\u001b[43m)\u001b[49m  \u001b[38;5;66;03m# Draw another semicircle\u001b[39;00m\n\u001b[32m     15\u001b[39m turtle.left(\u001b[32m120\u001b[39m)                 \u001b[38;5;66;03m# Turn left to the original position\u001b[39;00m\n\u001b[32m     16\u001b[39m turtle.left(angle)               \u001b[38;5;66;03m# Rotate to draw the next petal\u001b[39;00m\n",
      "\u001b[36mFile \u001b[39m\u001b[32m<string>:12\u001b[39m, in \u001b[36mcircle\u001b[39m\u001b[34m(radius, extent, steps)\u001b[39m\n",
      "\u001b[31mTerminator\u001b[39m: "
     ]
    }
   ],
   "source": [
    "import turtle\n",
    "\n",
    "def draw_rose(num_petals=36, petal_size=100, stem_length=300, petal_color=\"red\", stem_color=\"green\"):\n",
    "    # Set up the turtle\n",
    "    turtle.bgcolor(\"white\")\n",
    "    turtle.speed(10)\n",
    "    turtle.color(petal_color)\n",
    "\n",
    "    # Draw the petals\n",
    "    angle = 360 / num_petals\n",
    "    for _ in range(num_petals):\n",
    "        turtle.circle(petal_size, 60)  # Draw a semicircle\n",
    "        turtle.left(120)                 # Turn left\n",
    "        turtle.circle(petal_size, 60)  # Draw another semicircle\n",
    "        turtle.left(120)                 # Turn left to the original position\n",
    "        turtle.left(angle)               # Rotate to draw the next petal\n",
    "\n",
    "    # Draw the stem\n",
    "    turtle.right(90)\n",
    "    turtle.color(stem_color)\n",
    "    turtle.pensize(5)\n",
    "    turtle.forward(stem_length)\n",
    "\n",
    "    # Hide the turtle and finish\n",
    "    turtle.hideturtle()\n",
    "    turtle.done()\n",
    "\n",
    "# Call the function to draw the rose\n",
    "draw_rose()"
   ]
  }
 ],
 "metadata": {
  "kernelspec": {
   "display_name": "Python 3",
   "language": "python",
   "name": "python3"
  },
  "language_info": {
   "codemirror_mode": {
    "name": "ipython",
    "version": 3
   },
   "file_extension": ".py",
   "mimetype": "text/x-python",
   "name": "python",
   "nbconvert_exporter": "python",
   "pygments_lexer": "ipython3",
   "version": "3.11.0"
  }
 },
 "nbformat": 4,
 "nbformat_minor": 2
}
